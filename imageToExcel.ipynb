{
 "cells": [
  {
   "cell_type": "code",
   "execution_count": 16,
   "metadata": {},
   "outputs": [
    {
     "name": "stderr",
     "output_type": "stream",
     "text": [
      "usage: ipykernel_launcher.py [-h] -i IMAGE\n",
      "ipykernel_launcher.py: error: the following arguments are required: -i/--image\n"
     ]
    },
    {
     "ename": "SystemExit",
     "evalue": "2",
     "output_type": "error",
     "traceback": [
      "An exception has occurred, use %tb to see the full traceback.\n",
      "\u001b[0;31mSystemExit\u001b[0m\u001b[0;31m:\u001b[0m 2\n"
     ]
    }
   ],
   "source": [
    "# Required Libraries\n",
    "from os import listdir\n",
    "from os.path import isfile, join\n",
    "from pathlib import Path\n",
    "import numpy\n",
    "import cv2\n",
    "import argparse\n",
    "import numpy\n",
    "import csv\n",
    "\n",
    "# Check whether the CSV\n",
    "# exists or not if not then create one.\n",
    "my_file = Path(\"csv/details.csv\")\n",
    "\n",
    "if my_file.is_file():\n",
    "    f = open(my_file, \"w+\")\n",
    "    with open('csv/details.csv', 'a', newline='') as file:\n",
    "        writer = csv.writer(file)\n",
    "\n",
    "        writer.writerow([\"S.No.\", \"Name\"])\n",
    "    f.close()\n",
    "    pass\n",
    "\n",
    "else:\n",
    "    with open('csv/details.csv', 'w', newline = '') as file:\n",
    "        writer = csv.writer(file)\n",
    "\n",
    "        writer.writerow([\"S.No.\", \"Name\"])\n",
    "\n",
    "# Argparse function to get\n",
    "# the path of the image directory\n",
    "ap = argparse.ArgumentParser()\n",
    "\n",
    "ap.add_argument(\"-i\", \"--image\",\n",
    "                required = True,\n",
    "                help = \"data/pred\")\n",
    "\n",
    "args = vars(ap.parse_args())\n",
    "\n",
    "# Program to find the\n",
    "# colors and embed in the CSV\n",
    "mypath = args[\"image\"]\n",
    "\n",
    "onlyfiles = [ f for f in listdir(mypath) if isfile(join(mypath,f)) ]\n",
    "images = numpy.empty(len(onlyfiles), dtype = object)\n",
    "\n",
    "for n in range(0, len(onlyfiles)):\n",
    "\n",
    "    path = join(mypath,onlyfiles[n])\n",
    "    images[n] = cv2.imread(join(mypath,onlyfiles[n]),\n",
    "                        cv2.IMREAD_UNCHANGED)\n",
    "\n",
    "    img = cv2.imread(path)\n",
    "    h,w,c = img.shape\n",
    "    print(h, w, c)\n",
    "\n",
    "    avg_color_per_row = numpy.average(img, axis = 0)\n",
    "    avg_color = numpy.average(avg_color_per_row, axis = 0)\n",
    "\n",
    "    with open('csv/details.csv', 'a', newline = '') as file:\n",
    "        writer = csv.writer(file)\n",
    "        writer.writerow([n+1, onlyfiles[n], h, w, c,\n",
    "                        avg_color[0], avg_color[1],\n",
    "                        avg_color[2]])\n",
    "        file.close()"
   ]
  },
  {
   "cell_type": "code",
   "execution_count": 10,
   "metadata": {},
   "outputs": [
    {
     "name": "stdout",
     "output_type": "stream",
     "text": [
      "                             col\n",
      "0        acne-open-comedo-42.jpg\n",
      "1         acne-open-comedo-1.jpg\n",
      "2     perioral-dermatitis-15.jpg\n",
      "3    perioral-dermatitis-117.jpg\n",
      "4           acne-pustular-54.jpg\n",
      "..                           ...\n",
      "345          acne-pustular-4.jpg\n",
      "346       acne-excoriated-25.jpg\n",
      "347   perioral-dermatitis-18.jpg\n",
      "348       acne-open-comedo-2.jpg\n",
      "349                rosacea-3.jpg\n",
      "\n",
      "[350 rows x 1 columns]\n"
     ]
    }
   ],
   "source": [
    "L = dir_list\n",
    "\n",
    "#create new df \n",
    "df = pd.DataFrame({'col':L})\n",
    "print (df)"
   ]
  },
  {
   "cell_type": "code",
   "execution_count": 26,
   "metadata": {},
   "outputs": [
    {
     "name": "stdout",
     "output_type": "stream",
     "text": [
      "Files and directories in ' /home/jhanvipatel/Desktop/python/Skin/data/train/mild/ ' :\n",
      "['acne-open-comedo-42.jpg', 'acne-open-comedo-1.jpg', 'perioral-dermatitis-15.jpg', 'perioral-dermatitis-117.jpg', 'acne-pustular-54.jpg', 'hidradenitis-suppurativa-11.jpg', 'hidradenitis-suppurativa-31.jpg', 'hidradenitis-suppurativa-47.jpg', 'perioral-dermatitis-26.jpg', 'acne-open-comedo-72.jpg', 'fordyce-spots-3.jpg', 'perioral-dermatitis-19.jpg', 'acne-excoriated-16.jpg', 'acne-open-comedo-43.jpg', 'rosacea-nose-25.jpg', 'acne-infantile-6.jpg', 'perioral-dermatitis-20.jpg', 'fordyce-spots-1.jpg', 'perioral-dermatitis-31.jpg', 'acne-open-comedo-64.jpg', 'acne-open-comedo-21.jpg', 'acne-open-comedo-23.jpg', 'perioral-dermatitis-93.jpg', 'milia-16.jpg', 'hidradenitis-suppurativa-25.jpg', 'perioral-dermatitis-36.jpg', 'acne-excoriated-10.jpg', 'perioral-dermatitis-134.jpg', 'perioral-dermatitis-28.jpg', 'rosacea-13.jpg', 'acne-open-comedo-24.jpg', 'perioral-dermatitis-12.jpg', '07SteroidRosacea43.jpg', 'rosacea-steroid-8.jpg', 'acne-pustular-49.jpg', 'perioral-dermatitis-46.jpg', 'acne-closed-comedo-36.jpg', 'hidradenitis-suppurativa-35.jpg', 'perioral-dermatitis-83.jpg', 'acne-excoriated-11.jpg', 'perioral-dermatitis-131.jpg', 'rosacea-nose-19.jpg', 'milia-6.jpg', 'acne-pustular-10.jpg', 'acne-scar-8.jpg', 'acne-infantile-4.jpg', 'perioral-dermatitis-102.jpg', 'acne-cystic-21.jpg', '07rosaceaTreated091806OK.jpg', 'rosacea-2.jpg', 'acne-infantile-2.jpg', 'perioral-dermatitis-27.jpg', '07VascularFace0120.jpg', 'perioral-dermatitis-11.jpg', 'perioral-dermatitis-84.jpg', 'acne-open-comedo-10.jpg', 'perioral-dermatitis-51.jpg', 'acne-pustular-36.jpg', 'acne-open-comedo-38.jpg', 'rosacea-nose-55.jpg', '07sebDerem1101051.jpg', 'rosacea-nose-56.jpg', 'acne-open-comedo-34.jpg', 'perioral-dermatitis-9.jpg', 'perioral-dermatitis-118.jpg', 'rosacea-7.jpg', 'hidradenitis-suppurativa-67.jpg', 'acne-cystic-111.jpg', 'acne-open-comedo-17.jpg', 'acne-pustular-34.jpg', 'acne-open-comedo-22.jpg', 'acne-infantile-14.jpg', 'acne-open-comedo-69.jpg', 'perioral-dermatitis-86.jpg', 'hidradenitis-suppurativa-17.jpg', 'rosacea-nose-28.jpg', 'perioral-dermatitis-99.jpg', 'perioral-dermatitis-52.jpg', 'fordyce-spots-2.jpg', 'acne-pustular-57.jpg', 'hidradenitis-suppurativa-21.jpg', 'perioral-dermatitis-122.jpg', 'perioral-dermatitis-82.jpg', 'hidradenitis-suppurativa-9.jpg', 'acne-open-comedo-71.jpg', '07Acne081101.jpg', 'acne-excoriated-13.jpg', 'perioral-dermatitis-58.jpg', 'minocycline-pigmentation-2.jpg', 'rosacea-12.jpg', 'perioral-dermatitis-49.jpg', 'rosacea-16.jpg', 'hidradenitis-suppurativa-28.jpg', 'acne-pustular-52.jpg', 'hidradenitis-suppurativa-12.jpg', 'acne-cystic-125.jpg', 'acne-excoriated-12.jpg', 'acne-open-comedo-37.jpg', 'rosacea-nose-22.jpg', 'perioral-dermatitis-3.jpg', 'acne-cystic-19.jpg', 'acne-pustular-31.jpg', 'milia-8.jpg', 'perioral-dermatitis-59.jpg', 'acne-mechanica-1.jpg', 'acne-excoriated-4.jpg', 'perioral-dermatitis-16.jpg', 'perioral-dermatitis-119.jpg', 'perioral-dermatitis-120.jpg', 'acne-pustular-6.jpg', 'perioral-dermatitis-14.jpg', 'perioral-dermatitis-35.jpg', 'acne-cystic-150.jpg', 'acne-open-comedo-73.jpg', 'perioral-dermatitis-45.jpg', 'acne-excoriated-14.jpg', 'acne-pustular-26.jpg', 'acne-open-comedo-5.jpg', 'acne-pustular-51.jpg', 'perioral-dermatitis-104.jpg', 'hidradenitis-suppurativa-26.jpg', 'milia-9.jpg', 'acne-cystic-91.jpg', 'milia-4.jpg', 'perioral-dermatitis-123.jpg', 'acne-closed-comedo-22.jpg', 'acne-cystic-20.jpg', 'hidradenitis-suppurativa-69.jpg', 'perioral-dermatitis-30.jpg', 'acne-open-comedo-53.jpg', '07AcnePittedScars.jpg', 'acne-infantile-15.jpg', 'acne-excoriated-8.jpg', 'perioral-dermatitis-132.jpg', 'perioral-dermatitis-88.jpg', '08PerioralDerm0203.jpg', 'rosacea-17.jpg', 'acne-open-comedo-68.jpg', 'acne-cystic-94.jpg', 'Comedones-Ears.jpg', 'acne-infantile-3.jpg', 'acne-cystic-29.jpg', '08PerioralDerm1.jpg', 'acne-excoriated-2.jpg', 'hidradenitis-suppurativa-29.jpg', 'acne-open-comedo-25.jpg', 'hidradenitis-suppurativa-97.jpg', 'hidradenitis-suppurativa-36.jpg', 'acne-pustular-3.jpg', 'hidradenitis-suppurativa-23.jpg', 'acne-scar-9.jpg', 'acne-open-comedo-18.jpg', 'acne-pustular-7.jpg', 'perioral-dermatitis-94.jpg', 'hidradenitis-suppurativa-18.jpg', 'perioral-dermatitis-129.jpg', '07RosaceaTel011204.jpg', 'perioral-dermatitis-53.jpg', 'acne-open-comedo-14.jpg', 'acne-closed-comedo-24.jpg', 'hidradenitis-suppurativa-37.jpg', 'perioral-dermatitis-50.jpg', 'perioral-dermatitis-95.jpg', '07PerioralDermEye.jpg', 'acne-closed-comedo-25.jpg', 'perioral-dermatitis-85.jpg', 'hidradenitis-suppurativa-27.jpg', 'perioral-dermatitis-108.jpg', 'rosacea-5.jpg', 'acne-cystic-112.jpg', 'acne-cystic-123.jpg', 'hidradenitis-suppurativa-34.jpg', 'acne-pustular-9.jpg', 'perioral-dermatitis-55.jpg', 'hidradenitis-suppurativa-30.jpg', 'acne-cystic-84.jpg', 'acne-closed-comedo-35.jpg', 'milia-14.jpg', 'perioral-dermatitis-41.jpg', 'perioral-dermatitis-91.jpg', 'perioral-dermatitis-2.jpg', 'perioral-dermatitis-110.jpg', 'acne-pustular-30.jpg', 'acne-pustular-13.jpg', 'milia-5.jpg', 'acne-open-comedo-51.jpg', 'hidradenitis-suppurativa-95.jpg', 'acne-pustular-61.jpg', 'rosacea-14.jpg', 'acne-cystic-92.jpg', '07AcnePittedScars1.jpg', 'acne-open-comedo-46.jpg', 'acne-infantile-5.jpg', 'acne-pustular-48.jpg', 'acne-closed-comedo-40.jpg', 'rosacea-nose-26.jpg', 'acne-open-comedo-52.jpg', 'acne-excoriated-30.jpg', 'milia-10.jpg', 'perioral-dermatitis-25.jpg', 'perioral-dermatitis-22.jpg', 'acne-pustular-8.jpg', 'acne-excoriated-6.jpg', 'perioral-dermatitis-105.jpg', 'acne-open-comedo-13.jpg', 'acne-excoriated-24.jpg', 'perioral-dermatitis-103.jpg', 'hidradenitis-suppurativa-24.jpg', 'perioral-dermatitis-13.jpg', 'acne-pustular-27.jpg', 'acne-open-comedo-50.jpg', 'acne-open-comedo-28.jpg', 'perioral-dermatitis-98.jpg', 'milia-15.jpg', 'acne-excoriated-3.jpg', 'acne-excoriated-1.jpg', 'rosacea-steroid-7.jpg', 'acne-open-comedo-19.jpg', 'milia-18.jpg', 'perioral-dermatitis-10.jpg', 'acne-cystic-57.jpg', 'acne-pustular-53.jpg', 'minocycline-pigmentation-1.jpg', 'perioral-dermatitis-4.jpg', 'acne-open-comedo-39.jpg', 'acne-open-comedo-65.jpg', 'acne-open-comedo-7.jpg', 'ComedonesEars-1.jpg', 'perioral-dermatitis-24.jpg', 'perioral-dermatitis-37.jpg', 'rosacea-nose-29.jpg', 'acne-open-comedo-45.jpg', 'acne-pustular-33.jpg', 'acne-open-comedo-3.jpg', 'acne-pustular-56.jpg', 'perioral-dermatitis-48.jpg', 'acne-pustular-32.jpg', 'perioral-dermatitis-43.jpg', 'acne-cystic-109.jpg', 'acne-pustular-37.jpg', 'perioral-dermatitis-1.jpg', 'perioral-dermatitis-121.jpg', 'perioral-dermatitis-44.jpg', 'perioral-dermatitis-29.jpg', 'acne-open-comedo-26.jpg', 'perioral-dermatitis-90.jpg', '07PerioralDermNose.jpg', 'acne-open-comedo-31.jpg', 'gram-negative-folliculitis-1.jpg', 'perioral-dermatitis-23.jpg', 'perioral-dermatitis-111.jpg', 'hidradenitis-suppurativa-48.jpg', '07SteroidRosGlab.jpg', 'acne-closed-comedo-26.jpg', '07SteroidPerioral.jpg', 'acne-excoriated-15.jpg', 'hidradenitis-suppurativa-16.jpg', 'acne-open-comedo-67.jpg', 'rosacea-4.jpg', 'perioral-dermatitis-21.jpg', '07sebDerem1101052.jpg', 'acne-excoriated-5.jpg', 'perioral-dermatitis-89.jpg', 'hidradenitis-suppurativa-102.jpg', 'perioral-dermatitis-133.jpg', 'acne-pustular-5.jpg', 'perioral-dermatitis-40.jpg', 'perioral-dermatitis-87.jpg', 'perioral-dermatitis-109.jpg', 'rosacea-8.jpg', 'acne-open-comedo-6.jpg', 'acne-excoriated-26.jpg', 'rosacea-6.jpg', 'perioral-dermatitis-141.jpg', 'hidradenitis-suppurativa-49.jpg', 'acne-infantile-1.jpg', 'acne-pustular-25.jpg', 'acne-open-comedo-35.jpg', 'acne-cystic-124.jpg', 'acne-open-comedo-41.jpg', 'perioral-dermatitis-32.jpg', 'acne-pustular-14.jpg', 'acne-open-comedo-63.jpg', 'acne-open-comedo-32.jpg', 'rosacea-steroid-3.jpg', 'acne-open-comedo-44.jpg', 'rosacea-15.jpg', 'acne-pustular-23.jpg', 'perioral-dermatitis-33.jpg', 'acne-open-comedo-30.jpg', 'acne-cystic-106.jpg', 'acne-pustular-24.jpg', 'perioral-dermatitis-54.jpg', 'acne-open-comedo-54.jpg', 'acne-open-comedo-40.jpg', 'rosacea-nose-24.jpg', 'acne-excoriated-29.jpg', 'perioral-dermatitis-101.jpg', 'perioral-dermatitis-130.jpg', 'acne-open-comedo-33.jpg', 'hidradenitis-suppurativa-22.jpg', 'acne-open-comedo-66.jpg', 'milia-1.jpg', 'acne-excoriated-28.jpg', 'rosacea-9.jpg', 'perioral-dermatitis-34.jpg', 'rosacea-steroid-2.jpg', 'acne-open-comedo-15.jpg', 'hidradenitis-suppurativa-20.jpg', 'perioral-dermatitis-96.jpg', 'perioral-dermatitis-5.jpg', 'perioral-dermatitis-126.jpg', 'acne-open-comedo-4.jpg', '07RosaceaFulFAce.jpg', 'perioral-dermatitis-38.jpg', 'acne-cystic-134.jpg', '07sebDerem110105.jpg', 'perioral-dermatitis-124.jpg', 'perioral-dermatitis-100.jpg', 'hidradenitis-suppurativa-32.jpg', 'milia-17.jpg', 'acne-cystic-151.jpg', 'acne-open-comedo-9.jpg', 'perioral-dermatitis-56.jpg', 'perioral-dermatitis-139.jpg', 'acne-open-comedo-20.jpg', 'perioral-dermatitis-125.jpg', 'acne-pustular-29.jpg', 'acne-pustular-65.jpg', 'perioral-dermatitis-92.jpg', 'perioral-dermatitis-135.jpg', 'acne-open-comedo-8.jpg', 'acne-excoriated-27.jpg', 'perioral-dermatitis-97.jpg', 'perioral-dermatitis-39.jpg', 'perioral-dermatitis-47.jpg', 'rosacea-11.jpg', 'acne-open-comedo-36.jpg', '07PerioralSteroid1.jpg', 'acne-cystic-144.jpg', 'rosacea-nose-18.jpg', 'acne-pustular-50.jpg', 'milia-19.jpg', 'acne-open-comedo-70.jpg', '07PerioralDermq.jpg', 'acne-pustular-4.jpg', 'acne-excoriated-25.jpg', 'perioral-dermatitis-18.jpg', 'acne-open-comedo-2.jpg', 'rosacea-3.jpg']\n"
     ]
    }
   ],
   "source": [
    "import os\n",
    "import pandas as pd\n",
    "import xlsxwriter\n",
    "import xlrd\n",
    "import openpyxl\n",
    "# Get the list of all files and directories\n",
    "path = \"/home/jhanvipatel/Desktop/python/Skin/data/train/mild/\"\n",
    "dir_list = os.listdir(path)\n",
    "\n",
    "print(\"Files and directories in '\", path, \"' :\")\n",
    "\n",
    "# prints all files\n",
    "print(dir_list)\n",
    "\n",
    "L = dir_list\n",
    "clas = 'mild'\n",
    "datatyp = 'train'\n",
    "# dataframe Name and Age columns\n",
    "df = pd.DataFrame({'Data':datatyp,'Class':clas,'Images':L})\n",
    "\n",
    "# # Create a Pandas Excel writer using XlsxWriter as the engine.\n",
    "writer = pd.ExcelWriter('demo1.xlsx', engine='xlsxwriter')\n",
    "\n",
    "# Convert the dataframe to an XlsxWriter Excel object.\n",
    "df.to_excel(writer, sheet_name='Sheet1', index=False)\n",
    "\n",
    "# Close the Pandas Excel writer and output the Excel file.\n",
    "writer.save()\n"
   ]
  },
  {
   "cell_type": "code",
   "execution_count": 31,
   "metadata": {},
   "outputs": [
    {
     "name": "stdout",
     "output_type": "stream",
     "text": [
      "Files and directories in ' /home/jhanvipatel/Desktop/python/Skin/data/test/normal/ ' :\n",
      "['185.jpg', 'augmented_image_252.jpg', 'augmented_image_194.jpg', 'augmented_image_236.jpg', 'augmented_image_256.jpg', 'augmented_image_202.jpg', 'augmented_image_262.jpg', 'augmented_image_240.jpg', 'augmented_image_206.jpg', 'augmented_image_214.jpg', '187.jpg', 'augmented_image_222.jpg', 'augmented_image_272.jpg', 'augmented_image_215.jpg', 'augmented_image_244.jpg', 'augmented_image_235.jpg', 'augmented_image_205.jpg', 'augmented_image_230.jpg', '180.jpg', 'augmented_image_257.jpg', 'augmented_image_216.jpg', 'augmented_image_232.jpg', 'augmented_image_245.jpg', '218.jpg', 'augmented_image_271.jpg', '191.jpg', 'augmented_image_220.jpg', '186.jpg', 'augmented_image_223.jpg', 'augmented_image_231.jpg', '216.jpg', '212.jpg', '214.jpg', '217.jpg', '193.jpg', 'augmented_image_260.jpg', '222.jpg', '206.jpg', 'augmented_image_238.jpg', '194.jpg', 'augmented_image_241.jpg', '188.jpg', 'augmented_image_193.jpg', 'augmented_image_275.jpg', '196.jpg', 'augmented_image_192.jpg', '80.jpg', 'augmented_image_239.jpg', '76.jpg', '195.jpg', '74.jpg', '77.jpg', 'augmented_image_266.jpg', '86.jpg', 'augmented_image_225.jpg', '192.jpg', 'augmented_image_211.jpg', 'augmented_image_273.jpg', '79.jpg', 'augmented_image_265.jpg', 'augmented_image_258.jpg', '183.jpg', 'augmented_image_203.jpg', 'augmented_image_276.jpg', '223.jpg', '198.jpg', '221.jpg', 'augmented_image_227.jpg', '210.jpg', '181.jpg', 'augmented_image_270.jpg', 'augmented_image_229.jpg', 'augmented_image_251.jpg', 'augmented_image_263.jpg', 'augmented_image_224.jpg', 'augmented_image_210.jpg', 'augmented_image_226.jpg', 'augmented_image_234.jpg', '203.jpg', '83.jpg', '215.jpg', '207.jpg', 'augmented_image_254.jpg', '213.jpg', 'augmented_image_278.jpg', 'augmented_image_246.jpg', '81.jpg', '73.jpg', '208.jpg', '184.jpg', 'augmented_image_255.jpg', 'augmented_image_221.jpg', '201.jpg', '197.jpg', 'augmented_image_204.jpg', 'augmented_image_269.jpg', '224.jpg', '211.jpg', 'augmented_image_237.jpg', 'augmented_image_233.jpg', 'augmented_image_277.jpg', 'augmented_image_253.jpg', 'augmented_image_243.jpg', '220.jpg', '84.jpg', 'augmented_image_250.jpg', 'augmented_image_219.jpg', 'augmented_image_196.jpg', 'augmented_image_249.jpg', '204.jpg', 'augmented_image_267.jpg']\n"
     ]
    }
   ],
   "source": [
    "import os\n",
    "import pandas as pd\n",
    "import xlsxwriter\n",
    "import xlrd\n",
    "import openpyxl\n",
    "# Get the list of all files and directories\n",
    "path = \"/home/jhanvipatel/Desktop/python/Skin/data/test/normal/\"\n",
    "dir_list = os.listdir(path)\n",
    "\n",
    "print(\"Files and directories in '\", path, \"' :\")\n",
    "\n",
    "# prints all files\n",
    "print(dir_list)\n",
    "\n",
    "L = dir_list\n",
    "clas = 'normal'\n",
    "datatyp = 'test'\n",
    "# dataframe Name and Age columns\n",
    "df = pd.DataFrame({'Data':datatyp,'Class':clas,'Images':L})\n",
    "\n",
    "# # Create a Pandas Excel writer using XlsxWriter as the engine.\n",
    "writer = pd.ExcelWriter('tdemo2.xlsx', engine='xlsxwriter')\n",
    "\n",
    "# Convert the dataframe to an XlsxWriter Excel object.\n",
    "df.to_excel(writer, sheet_name='Sheet1', index=False)\n",
    "\n",
    "# Close the Pandas Excel writer and output the Excel file.\n",
    "writer.save()"
   ]
  },
  {
   "cell_type": "code",
   "execution_count": 32,
   "metadata": {},
   "outputs": [
    {
     "name": "stdout",
     "output_type": "stream",
     "text": [
      "111\n"
     ]
    }
   ],
   "source": [
    "print(len(L))"
   ]
  },
  {
   "cell_type": "code",
   "execution_count": 12,
   "metadata": {},
   "outputs": [],
   "source": [
    "# # importing the required modules\n",
    "# import glob\n",
    "# import pandas as pd\n",
    "\n",
    "# # specifying the path to csv files\n",
    "# path = \"/home/jhanvipatel/Desktop/python/Skin/\"\n",
    "\n",
    "# # csv files in the path\n",
    "# file_list = glob.glob(path + \"/*.xlsx\")\n",
    "\n",
    "# # list of excel files we want to merge.\n",
    "# # pd.read_excel(file_path) reads the excel\n",
    "# # data into pandas dataframe.\n",
    "# excl_list = []\n",
    "\n",
    "# for file in excl_list:\n",
    "#     excl_list.append(pd.read_excel(file))\n",
    "\n",
    "# # create a new dataframe to store the\n",
    "# # merged excel file.\n",
    "# excl_merged = pd.DataFrame()\n",
    "\n",
    "# for excl_file in excl_list:\n",
    "\n",
    "#     # appends the data into the excl_merged\n",
    "#     # dataframe.\n",
    "#     excl_merged = excl_merged.append(\n",
    "#     excl_file, ignore_index=True)\n",
    "\n",
    "# # exports the dataframe into excel file with\n",
    "# # specified name.\n",
    "# excl_merged.to_excel('Finaldata.xlsx', index=False)"
   ]
  },
  {
   "cell_type": "code",
   "execution_count": 8,
   "metadata": {},
   "outputs": [
    {
     "name": "stdout",
     "output_type": "stream",
     "text": [
      "['saved_model', 'featurisation_techniques.txt', 'CNN_grey22', 'demo.csv', 'csv', 'data.zip', 'dummy', 'CNN-heatmap1.ipynb', 'CNN-heatmap-dummy.ipynb', 'CNN_equHeat', 'tdemo1.csv', 'Equilised_imgs_rgb', 'Experiments.ipynb', 'CNN_contrast', 'CNN_equCon', 'cnn_experiment2Inputs.ipynb', 'CNN_rgb.ipynb', 'CNN-dwt_grey.ipynb', 'esp32', 'foo1.png', 'Unet-rgb.ipynb', 'MRF.ipynb', 'HybridTechniqueForSkinPimplesImageDetectionand.pdf', 'cnn_experiment-Copy2.ipynb', 'grey_images', 'demo1.csv', 'data_dwt', '__pycache__', 'CNN_equRGB', 'CNN-EquilisedHeatmap.ipynb', 'heatmap_images', 'gfgModel.h5', 'mergercodeDemo.ipynb', 'Untitled.ipynb', 'CNN_newexp8Feb', 'iphone_images', 'CNN_newexp8Feb1', 'cnn_exp10Feb_heatmap1', 'Iphone_images_experiments.ipynb', 'demo_images', 'Contrast_Stretching-Copy1.ipynb', 'model_checkpoints', 'mysavedmodel1', 'CNN-grey.ipynb', 'cnn_experiment.ipynb', 'data', 'CNN_rgb-Copy1.ipynb', 'CNN_newexp', 'cnn_experiment1.ipynb', '.ipynb_checkpoints', 'esp32_experiments.ipynb', 'DataInputPipeline.ipynb', 'CNN-contrast.ipynb', 'Untitled1.ipynb', 'Eqilised_heatmapgrey', 'VGG16.ipynb', 'img_folder', 'mysavedmodel4Feb', 'newdata', 'demo2.csv', 'mode', 'Equilised_imgs_cntrst', 'tdemo2.csv', 'Untitled2.ipynb', 'Exp1.ipynb', 'CNN-EquilisedContrastRGB.ipynb', 'p2.jpg', 'saved_model17', 'checkpoints', 'random_eraser.py', 'tdemo.csv', 'cnn_exp4Feb_heatmap1', 'CNN-dwt_rgb.ipynb', 'CNN_newexp8Feb1_1', 'rgb_22.h5', 'myVGGmodel.h5', 'Image_Generation.ipynb', 'CNN-heatmap.ipynb', 'contrast_imagess', 'CNN-EquilisedRGB.ipynb', 'Finaldata.xlsx', 'Unet-rgb-Copy1.ipynb', 'mysavedmodel3Feb', 'myVGGmodel50.h5', 'cnn_experiment3.ipynb']\n",
      "demo.csv\n",
      "tdemo1.csv\n",
      "demo1.csv\n",
      "demo2.csv\n",
      "tdemo2.csv\n",
      "tdemo.csv\n"
     ]
    },
    {
     "data": {
      "text/html": [
       "<div>\n",
       "<style scoped>\n",
       "    .dataframe tbody tr th:only-of-type {\n",
       "        vertical-align: middle;\n",
       "    }\n",
       "\n",
       "    .dataframe tbody tr th {\n",
       "        vertical-align: top;\n",
       "    }\n",
       "\n",
       "    .dataframe thead th {\n",
       "        text-align: right;\n",
       "    }\n",
       "</style>\n",
       "<table border=\"1\" class=\"dataframe\">\n",
       "  <thead>\n",
       "    <tr style=\"text-align: right;\">\n",
       "      <th></th>\n",
       "    </tr>\n",
       "  </thead>\n",
       "  <tbody>\n",
       "  </tbody>\n",
       "</table>\n",
       "</div>"
      ],
      "text/plain": [
       "Empty DataFrame\n",
       "Columns: []\n",
       "Index: []"
      ]
     },
     "execution_count": 8,
     "metadata": {},
     "output_type": "execute_result"
    }
   ],
   "source": [
    "import glob\n",
    "import pandas as pd\n",
    "import os\n",
    "import pandas as pd\n",
    "cwd = os.path.abspath('/home/jhanvipatel/Desktop/python/Skin/') \n",
    "files = os.listdir(cwd) \n",
    "print(files)\n",
    "df = pd.DataFrame()\n",
    "for file in files:\n",
    "     if file.endswith('.csv'):\n",
    "        print(file)\n",
    "df.head()"
   ]
  },
  {
   "cell_type": "code",
   "execution_count": 11,
   "metadata": {},
   "outputs": [],
   "source": [
    "\n"
   ]
  },
  {
   "cell_type": "code",
   "execution_count": 2,
   "metadata": {},
   "outputs": [
    {
     "name": "stdout",
     "output_type": "stream",
     "text": [
      "Files and directories in ' /home/jhanvipatel/Desktop/python/Skin/data_n/ ' :\n",
      "['mild_perioraldermatitis98.jpg', 'severe_37.jpg', 'severe_07RosaceaMilia0120.jpg', 'mild_milia6.jpg', 'severe_acnecystic13.jpg', 'severe_hidradenitissuppurativa66.jpg', 'mild_acneopencomedo46.jpg', 'mild_hidradenitissuppurativa9.jpg', 'severe_sti44.jpg', 'severe_sti46.jpg', 'severe_imgss35.jpg', 'normal_446.jpg', 'mild_rosacea103.jpg', 'normal_464.jpg', 'severe_acnepustular38.jpg', 'severe_decb38.jpg', 'mild_acneopencomedo30.jpg', 'severe_btimg7.jpg', 'mild_perioraldermatitis14.jpg', 'normal_augimg175.jpg', 'severe_rimg35.jpg', 'severe_rosaceanose48.jpg', 'severe_rosacea106.jpg', 'normal_326.jpg', 'severe_rimg13.jpg', 'mild_rosacea102.jpg', 'normal_403.jpg', 'normal_208.jpg', 'severe_decb47.jpg', 'mild_hidradenitissuppurativa97.jpg', 'normal_timg221.jpg', 'normal_224.jpg', 'severe_imgss5.jpg', 'normal_timg269.jpg', 'normal_43.jpg', 'severe_acnecystic110.jpg', 'normal_augimg172.jpg', 'mild_acneopencomedo42.jpg', 'normal_70.jpg', 'severe_imgss19.jpg', 'severe_riimg48.jpg', 'mild_perioraldermatitis1.jpg', 'normal_231.jpg', 'severe_decb39.jpg', 'mild_acnepustular9.jpg', 'severe_acnecystic37.jpg', 'normal_augimg135.jpg', 'mild_acnescar5.jpg', 'normal_430.jpg', 'mild_rosacea72.jpg', 'severe_acnecystic98.jpg', 'severe_rimg4.jpg', 'severe_btimg29.jpg', 'severe_rimg29.jpg', 'severe_imgss42.jpg', 'severe_acneface80ProtectWyJQcm90ZWN0Il0_FocusFillWzI5NCwyMjIsIngiLDIzXQ.jpg', 'normal_augimg38.jpg', 'mild_acneexcoriated13.jpg', 'severe_fordycespots4.jpg', 'normal_augimg13.jpg', 'mild_rosacea83.jpg', 'normal_augimg40.jpg', 'normal_475.jpg', 'mild_acnecystic106.jpg', 'severe_sti28.jpg', 'normal_58.jpg', 'mild_rosacea34.jpg', 'severe_acnecystic25.jpg', 'severe_perioraldermatitis107.jpg', 'normal_55.jpg', 'mild_perioraldermatitis26.jpg', 'normal_376.jpg', 'severe_btimg24.jpg', 'normal_228.jpg', 'severe_hidradenitissuppurativa7.jpg', 'normal_315.jpg', 'mild_acneopencomedo59.jpg', 'normal_augimg126.jpg', 'mild_acneexcoriated5.jpg', 'severe_perioraldermatitis114.jpg', 'normal_215.jpg', 'mild_acnepustular71.jpg', 'normal_318.jpg', 'mild_rosacea14.jpg', 'mild_rosacea112.jpg', 'normal_421.jpg', 'normal_307.jpg', 'mild_milia14.jpg', 'severe_imgss14.jpg', 'normal_349.jpg', 'mild_perioraldermatitis139.jpg', 'severe_imgss1.jpg', 'mild_perioraldermatitis55.jpg', 'mild_acnepustular70.jpg', 'mild_07AcnePittedScars.jpg', 'mild_milia9.jpg', 'normal_399.jpg', 'mild_perioraldermatitis43.jpg', 'mild_acneopencomedo60.jpg', 'normal_391.jpg', 'normal_234.jpg', 'severe_rosacea42.jpg', 'mild_fordycespots2.jpg', 'normal_augimg137.jpg', 'normal_84.jpg', 'normal_12.jpg', 'severe_hidradenitissuppurativa72.jpg', 'mild_acneopencomedo66.jpg', 'normal_466.jpg', 'normal_187.jpg', 'severe_acnecystic116.jpg', 'severe_acnecystic122.jpg', 'mild_acneexcoriated6.jpg', 'normal_477.jpg', 'normal_augimg118.jpg', 'mild_acnepustular31.jpg', 'severe_rim21.jpg', 'severe_btimg6.jpg', 'mild_rosaceanose17.jpg', 'normal_317.jpg', 'normal_67.jpg', 'severe_rimg23.jpg', 'normal_311.jpg', 'severe_riimg33.jpg', 'severe_fordycespotslip.jpg', 'mild_perioraldermatitis35.jpg', 'severe_sti17.jpg', 'normal_augimg35.jpg', 'mild_rosacea67.jpg', 'mild_07SteroidRosacea43.jpg', 'mild_acneinfantile1.jpg', 'normal_362.jpg', 'normal_9.jpg', 'normal_56.jpg', 'normal_431.jpg', 'mild_perioraldermatitis20.jpg', 'normal_timg229.jpg', 'normal_augimg179.jpg', 'normal_413.jpg', 'mild_acneopencomedo10.jpg', 'normal_364.jpg', 'mild_perioraldermatitis96.jpg', 'mild_rosacea92.jpg', 'severe_decb32.jpg', 'mild_acneopencomedo35.jpg', 'severe_sti23.jpg', 'mild_perioraldermatitis48.jpg', 'normal_augimg134.jpg', 'mild_perioraldermatitis38.jpg', 'normal_augimg21.jpg', 'severe_acnecystic101.jpg', 'severe_acnecystic149.jpg', 'mild_rosacea6.jpg', 'mild_acnescar2.jpg', 'mild_rosacea9.jpg', 'severe_sti41.jpg', 'normal_40.jpg', 'severe_07Rhinophyma1a.jpg', 'severe_riimg31.jpg', 'normal_435.jpg', 'mild_hidradenitissuppurativa23.jpg', 'normal_368.jpg', 'severe_imgss2.jpg', 'normal_timg252.jpg', 'normal_augimg72.jpg', 'mild_perioraldermatitis101.jpg', 'normal_374.jpg', 'mild_acneexcoriated15.jpg', 'normal_191.jpg', 'mild_acneclosedcomedo26.jpg', 'severe_imgss30.jpg', 'mild_08PerioralDerm0203.jpg', 'mild_rosacea47.jpg', 'mild_07sebDerem1101052.jpg', 'mild_acneopencomedo7.jpg', 'normal_59.jpg', 'mild_acneopencomedo51.jpg', 'mild_rosacea85.jpg', 'normal_31.jpg', 'mild_perioraldermatitis31.jpg', 'severe_rosaceanose14.jpg', 'normal_408.jpg', 'severe_acnecystic44.jpg', 'normal_196.jpg', 'severe_acnecystic12.jpg', 'mild_perioraldermatitis103.jpg', 'mild_perioraldermatitis27.jpg', 'normal_augimg76.jpg', 'normal_437.jpg', 'normal_augimg184.jpg', 'normal_augimg148.jpg', 'mild_hidradenitissuppurativa47.jpg', 'mild_acnepustular24.jpg', 'severe_acneinfantile16.jpg', 'mild_rosaceanose15.jpg', 'severe_rosaceanose11.jpg', 'severe_rimg25.jpg', 'severe_rosacea53.jpg', 'severe_rimg15.jpg', 'severe_perioraldermatitis113.jpg', 'normal_timg232.jpg', 'mild_perioraldermatitis102.jpg', 'severe_imgss21.jpg', 'mild_acneexcoriated10.jpg', 'severe_imgss12.jpg', 'mild_rosacea45.jpg', 'severe_acnepustular1.jpg', 'severe_rosacea43.jpg', 'severe_acnecystic45.jpg', 'severe_riimg36.jpg', 'normal_410.jpg', 'severe_riimg24.jpg', 'normal_augimg20.jpg', 'severe_rim14.jpg', 'severe_sti31.jpg', 'normal_426.jpg', 'normal_augimg27.jpg', 'severe_rosacea96.jpg', 'normal_timg256.jpg', 'normal_augimg189.jpg', 'normal_augimg62.jpg', 'normal_440.jpg', 'severe_rosacea101.jpg', 'normal_augimg144.jpg', 'mild_acnepustular61.jpg', 'normal_timg239.jpg', 'mild_perioraldermatitis86.jpg', 'mild_perioraldermatitis47.jpg', 'normal_422.jpg', 'mild_acneinfantile5.jpg', 'normal_augimg32.jpg', 'severe_hidradenitissuppurativa105.jpg', 'mild_rosacea26.jpg', 'severe_rosaceanose13.jpg', 'mild_acnepustular34.jpg', 'mild_perioraldermatitis135.jpg', 'normal_193.jpg', 'normal_210.jpg', 'mild_perioraldermatitis52.jpg', 'severe_imgss8.jpg', 'severe_07rhnophymas032105.jpg', 'mild_perioraldermatitis122.jpg', 'severe_rim13.jpg', 'normal_478.jpg', 'mild_acneopencomedo65.jpg', 'normal_34.jpg', 'mild_07Acne081101.jpg', 'mild_perioraldermatitis29.jpg', 'mild_rosacea8.jpg', 'severe_rimg22.jpg', 'severe_rosacea80.jpg', 'mild_rosacea91.jpg', 'normal_4.jpg', 'severe_acnecystic104.jpg', 'severe_acnepustular45.jpg', 'severe_sti43.jpg', 'severe_imgss10.jpg', 'mild_acneopencomedo15.jpg', 'normal_augimg155.jpg', 'normal_timg249.jpg', 'severe_acnepustular35.jpg', 'normal_augimg109.jpg', 'mild_acneopencomedo67.jpg', 'mild_perioraldermatitis44.jpg', 'severe_23VesselsNose1.jpg', 'severe_imgss9.jpg', 'severe_rimg2.jpg', 'mild_rosaceanose56.jpg', 'normal_augimg177.jpg', 'normal_329.jpg', 'mild_acneopencomedo6.jpg', 'normal_timg224.jpg', 'severe_rosacea54.jpg', 'mild_rosacea38.jpg', 'normal_timg227.jpg', 'mild_acneopencomedo28.jpg', 'severe_btimg4.jpg', 'mild_acneopencomedo39.jpg', 'normal_420.jpg', 'mild_perioraldermatitis94.jpg', 'normal_468.jpg', 'severe_07RosaceaOK0828062.jpg', 'mild_rosacea20.jpg', 'severe_acnecystic28.jpg', 'mild_acneopencomedo26.jpg', 'severe_acnecystic51.jpg', 'mild_hidradenitissuppurativa11.jpg', 'severe_acnecystic32.jpg', 'normal_timg210.jpg', 'mild_acneopencomedo19.jpg', 'mild_acnepustular7.jpg', 'mild_acnecystic144.jpg', 'normal_183.jpg', 'normal_augimg117.jpg', 'mild_perioraldermatitis33.jpg', 'severe_riimg46.jpg', 'mild_acneopencomedo24.jpg', 'mild_rosaceanose9.jpg', 'mild_rosacea41.jpg', 'mild_perioraldermatitis87.jpg', 'severe_imgss7.jpg', 'normal_331.jpg', 'normal_timg277.jpg', 'normal_53.jpg', 'normal_augimg16.jpg', 'severe_imgss40.jpg', 'normal_timg238.jpg', 'mild_07PerioralDermNose.jpg', 'normal_367.jpg', 'severe_rosacea65.jpg', 'mild_rosacea7.jpg', 'normal_augimg42.jpg', 'severe_acneopencomedo48.jpg', 'normal_232.jpg', 'mild_acneclosedcomedo10.jpg', 'normal_augimg23.jpg', 'normal_timg220.jpg', 'severe_decb41.jpg', 'mild_rosacea77.jpg', 'severe_rosacea70.jpg', 'normal_augimg145.jpg', 'severe_imgss15.jpg', 'normal_409.jpg', 'mild_perioraldermatitis126.jpg', 'normal_427.jpg', 'severe_decb36.jpg', 'severe_hidradenitissuppurativa107.jpg', 'severe_imgss43.jpg', 'normal_augimg111.jpg', 'mild_perioraldermatitis11.jpg', 'mild_acnescar3.jpg', 'mild_07PerioralDermEye.jpg', 'severe_acnepustular60.jpg', 'normal_augimg66.jpg', 'normal_220.jpg', 'severe_sti8.jpg', 'severe_imgss38.jpg', 'severe_acnecystic103.jpg', 'mild_rosacea17.jpg', 'mild_hidradenitissuppurativa91.jpg', 'mild_acneexcoriated11.jpg', 'normal_186.jpg', 'normal_64.jpg', 'mild_perioraldermatitis25.jpg', 'normal_444.jpg', 'normal_augimg154.jpg', 'mild_acneclosedcomedo35.jpg', 'normal_79.jpg', 'severe_acnepustular74.jpg', 'normal_428.jpg', 'mild_acneopencomedo64.jpg', 'mild_acneopencomedo54.jpg', 'mild_acneopencomedo38.jpg', 'normal_445.jpg', 'severe_btimg13.jpg', 'mild_acneopencomedo71.jpg', 'mild_rosaceasteroid8.jpg', 'severe_sti1.jpg', 'mild_perioraldermatitis95.jpg', 'normal_timg258.jpg', 'normal_457.jpg', 'severe_acnecystic36.jpg', 'mild_acnecystic111.jpg', 'mild_acneclosedcomedo5.jpg', 'severe_hidradenitissuppurativa96.jpg', 'mild_rosacea21.jpg', 'mild_acneclosedcomedo24.jpg', 'severe_07RosaceaK0216.jpg', 'mild_perioraldermatitis111.jpg', 'severe_rim4.jpg', 'severe_sti2.jpg', 'normal_timg193.jpg', 'normal_timg244.jpg', 'normal_timg251.jpg', 'mild_acnescar6.jpg', 'mild_acnepustular13.jpg', 'severe_acnecystic121.jpg', 'mild_ComedonesEars1.jpg', 'normal_338.jpg', 'mild_rosacea81.jpg', 'severe_decb33.jpg', 'normal_207.jpg', 'mild_acneclosedcomedo18.jpg', 'normal_augimg56.jpg', 'mild_rosacea50.jpg', 'severe_acnecystic88.jpg', 'normal_385.jpg', 'severe_imgss33.jpg', 'normal_459.jpg', 'normal_timg222.jpg', 'severe_acnescar1.jpg', 'normal_augimg52.jpg', 'normal_augimg122.jpg', 'severe_rosacea64.jpg', 'normal_augimg70.jpg', 'normal_306.jpg', 'severe_acnepustular58.jpg', 'normal_32.jpg', 'severe_imgss36.jpg', 'severe_imgss23.jpg', 'severe_btimg30.jpg', 'normal_81.jpg', 'mild_hidradenitissuppurativa49.jpg', 'mild_acnecystic151.jpg', 'mild_acnecystic125.jpg', 'severe_rimg34.jpg', 'mild_hidradenitissuppurativa22.jpg', 'severe_imgss32.jpg', 'normal_augimg123.jpg', 'normal_augimg140.jpg', 'mild_acnepustular32.jpg', 'severe_07SteroidRosacea.jpg', 'severe_sti48.jpg', 'mild_rosacea36.jpg', 'normal_86.jpg', 'mild_rosaceasteroid3.jpg', 'mild_rosaceanose53.jpg', 'normal_447.jpg', 'severe_acnepustular43.jpg', 'severe_btimg10.jpg', 'mild_acnepustular49.jpg', 'severe_rimg6.jpg', 'mild_07AcnePittedScars1.jpg', 'mild_acneexcoriated14.jpg', 'mild_rosaceanose43.jpg', 'mild_rosacea30.jpg', 'severe_imgss45.jpg', 'normal_timg243.jpg', 'severe_riimg39.jpg', 'normal_augimg178.jpg', 'normal_51.jpg', 'normal_54.jpg', 'normal_448.jpg', 'mild_hidradenitissuppurativa69.jpg', 'severe_hidradenitissuppurativa46.jpg', 'mild_rosaceanose3.jpg', 'mild_acneopencomedo4.jpg', 'severe_perioraldermatitis136.jpg', 'normal_434.jpg', 'mild_acneexcoriated30.jpg', 'mild_rosacea23.jpg', 'severe_btimg17.jpg', 'normal_414.jpg', 'severe_btimg26.jpg', 'severe_riimg41.jpg', 'normal_230.jpg', 'severe_imgss29.jpg', 'normal_302.jpg', 'severe_rimg10.jpg', 'normal_augimg14.jpg', 'normal_390.jpg', 'mild_acnepustular56.jpg', 'mild_hidradenitissuppurativa95.jpg', 'mild_acneclosedcomedo40.jpg', 'normal_361.jpg', 'normal_395.jpg', 'severe_hidradenitissuppurativa63.jpg', 'severe_imgss20.jpg', 'severe_btimg20.jpg', 'severe_riimg43.jpg', 'severe_rosacea95.jpg', 'normal_augimg67.jpg', 'normal_388.jpg', 'normal_11.jpg', 'normal_timg194.jpg', 'normal_augimg182.jpg', 'normal_432.jpg', 'severe_acnecystic87.jpg', 'severe_hidradenitissuppurativa75.jpg', 'mild_rosacea44.jpg', 'normal_augimg170.jpg', 'mild_07RosaceaTel011204.jpg', 'mild_acneinfantile14.jpg', 'normal_augimg106.jpg', 'severe_acnecystic58.jpg', 'normal_203.jpg', 'mild_milia5.jpg', 'normal_185.jpg', 'severe_acnecystic90.jpg', 'severe_acnecystic147.jpg', 'normal_augimg121.jpg', 'normal_365.jpg', 'mild_acnecystic123.jpg', 'normal_augimg41.jpg', 'mild_rosaceanose7.jpg', 'normal_augimg31.jpg', 'normal_33.jpg', 'normal_181.jpg', 'normal_393.jpg', 'normal_augimg60.jpg', 'severe_milia11.jpg', 'severe_imgss41.jpg', 'mild_acnecystic109.jpg', 'severe_riimg44.jpg', 'severe_acnecystic26.jpg', 'normal_389.jpg', 'severe_sti20.jpg', 'normal_augimg153.jpg', 'severe_acnecystic120.jpg', 'normal_83.jpg', 'severe_btimg16.jpg', 'mild_acnecystic92.jpg', 'mild_acneopencomedo41.jpg', 'normal_timg234.jpg', 'normal_augimg165.jpg', 'mild_rosacea3.jpg', 'normal_423.jpg', 'normal_timg255.jpg', 'normal_301.jpg', 'mild_hidradenitissuppurativa86.jpg', 'mild_acnepustular8.jpg', 'severe_btimg8.jpg', 'mild_milia15.jpg', 'severe_imgss46.jpg', 'severe_imgss48.jpg', 'mild_acneopencomedo34.jpg', 'severe_rosaceanose39.jpg', 'normal_400.jpg', 'severe_rimg14.jpg', 'mild_rosacea37.jpg', 'mild_acneopencomedo14.jpg', 'severe_acneexcoriated17.jpg', 'normal_augimg127.jpg', 'severe_imgss37.jpg', 'severe_imgss39.jpg', 'normal_augimg191.jpg', 'normal_378.jpg', 'severe_rosaceanose51.jpg', 'mild_hidradenitissuppurativa16.jpg', 'mild_perioraldermatitis85.jpg', 'severe_acnepustular73.jpg', 'severe_btimg28.jpg', 'mild_rosacea117.jpg', 'severe_acnecystic95.jpg', 'mild_perioraldermatitis30.jpg', 'mild_minocyclinepigmentation2.jpg', 'normal_timg237.jpg', 'severe_rimg33.jpg', 'severe_acnepustular20.jpg', 'severe_acnecystic11.jpg', 'severe_sti29.jpg', 'mild_acnescar4.jpg', 'severe_acnecystic126.jpg', 'mild_rosacea115.jpg', 'mild_07sebDerem1101051.jpg', 'severe_sti21.jpg', 'mild_perioraldermatitis13.jpg', 'normal_354.jpg', 'normal_341.jpg', 'severe_07rhnophymas0321051.jpg', 'mild_acneopencomedo5.jpg', 'severe_acnecystic85.jpg', 'normal_206.jpg', 'mild_perioraldermatitis108.jpg', 'severe_sti27.jpg', 'severe_07RosaceaK02163.jpg', 'mild_acneexcoriated29.jpg', 'mild_rosacea13.jpg', 'severe_rosacea56.jpg', 'severe_rosaceanose35.jpg', 'severe_acnepustular28.jpg', 'severe_riimg34.jpg', 'mild_acnepustular52.jpg', 'mild_acnecystic21.jpg', 'normal_augimg30.jpg', 'severe_rosaceanose52.jpg', 'normal_425.jpg', 'normal_augimg43.jpg', 'mild_rosacea11.jpg', 'normal_359.jpg', 'normal_347.jpg', 'severe_decb37.jpg', 'normal_augimg74.jpg', 'mild_rosacea28.jpg', 'severe_acnecystic102.jpg', 'severe_rosacea108.jpg', 'severe_rosaceanose12.jpg', 'mild_07PerioralDermq.jpg', 'severe_rosacea58.jpg', 'mild_perioraldermatitis83.jpg', 'normal_392.jpg', 'mild_rosaceanose5.jpg', 'severe_imgss18.jpg', 'severe_riimg25.jpg', 'normal_13.jpg', 'normal_47.jpg', 'normal_augimg97.jpg', 'normal_469.jpg', 'normal_augimg73.jpg', 'severe_rosacea113.jpg', 'normal_timg204.jpg', 'normal_467.jpg', 'mild_rosaceanose18.jpg', 'normal_timg214.jpg', 'mild_perioraldermatitis117.jpg', 'severe_riimg40.jpg', 'severe_btimg14.jpg', 'mild_acnepustular33.jpg', 'normal_370.jpg', 'mild_hidradenitissuppurativa89.jpg', 'severe_rosaceanose36.jpg', 'mild_hidradenitissuppurativa34.jpg', 'mild_07VascularFace0120.jpg', 'mild_perioraldermatitis2.jpg', 'normal_194.jpg', 'severe_rimg24.jpg', 'severe_perioraldermatitis128.jpg', 'severe_btimg15.jpg', 'normal_322.jpg', 'mild_07SteroidRosGlab.jpg', 'mild_perioraldermatitis36.jpg', 'severe_acnecystic47.jpg', 'mild_perioraldermatitis46.jpg', 'mild_rosacea24.jpg', 'severe_decb45.jpg', 'normal_augimg115.jpg', 'normal_timg273.jpg', 'severe_riimg42.jpg', 'severe_rosacea61.jpg', 'mild_perioraldermatitis22.jpg', 'normal_372.jpg', 'normal_340.jpg', 'mild_perioraldermatitis39.jpg', 'mild_perioraldermatitis5.jpg', 'normal_458.jpg', 'mild_acnecystic134.jpg', 'severe_decb34.jpg', 'severe_imgss34.jpg', 'severe_acneinfantile13.jpg', 'normal_66.jpg', 'normal_0.jpg', 'severe_42.jpg', 'normal_augimg54.jpg', 'severe_hidradenitissuppurativa65.jpg', 'normal_augimg116.jpg', 'mild_hidradenitissuppurativa48.jpg', 'normal_augimg39.jpg', 'severe_decb44.jpg', 'normal_49.jpg', 'mild_acnecystic150.jpg', 'mild_rosacea18.jpg', 'normal_345.jpg', 'normal_augimg59.jpg', 'mild_rosaceagranulomatous1.jpg', 'severe_riimg37.jpg', 'mild_acnepustular30.jpg', 'normal_timg263.jpg', 'normal_480.jpg', 'severe_acnecystic5.jpg', 'severe_acnecystic119.jpg', 'mild_acneopencomedo61.jpg', 'normal_61.jpg', 'severe_rimg5.jpg', 'normal_14.jpg', 'normal_timg275.jpg', 'normal_augimg71.jpg', 'normal_timg236.jpg', 'normal_407.jpg', 'mild_gramnegativefolliculitis1.jpg', 'normal_timg205.jpg', 'severe_acnecystic127.jpg', 'normal_336.jpg', 'normal_310.jpg', 'severe_acnepustular64.jpg', 'severe_decb46.jpg', 'severe_acnepustular47.jpg', 'severe_hidradenitissuppurativa40.jpg', 'mild_perioraldermatitis131.jpg', 'severe_sti9.jpg', 'severe_acnecystic143.jpg', 'normal_46.jpg', 'severe_acnecystic145.jpg', 'normal_384.jpg', 'mild_rosaceagranulomatous2.jpg', 'normal_449.jpg', 'severe_rosacea114.jpg', 'mild_hidradenitissuppurativa18.jpg', 'normal_69.jpg', 'severe_sti0.jpg', 'severe_07rosacea010206OK.jpg', 'severe_rosacea73.jpg', 'severe_sti42.jpg', 'mild_acneopencomedo21.jpg', 'mild_acnecystic20.jpg', 'mild_perioraldermatitis132.jpg', 'normal_timg270.jpg', 'normal_180.jpg', 'normal_augimg114.jpg', 'severe_sti39.jpg', 'mild_perioraldermatitis120.jpg', 'severe_acneface235ProtectWyJQcm90ZWN0Il0_FocusFillWzI5NCwyMjIsIngiLDFd.jpg', 'mild_milia18.jpg', 'normal_460.jpg', 'normal_augimg113.jpg', 'normal_455.jpg', 'severe_acnepustular68.jpg', 'mild_rosacea27.jpg', 'severe_perioraldermatitis137.jpg', 'normal_15.jpg', 'severe_07Rhinophymaq.jpg', 'severe_rimg32.jpg', 'mild_acneopencomedo8.jpg', 'severe_acnecystic15.jpg', 'severe_sti22.jpg', 'mild_rosaceanose19.jpg', 'mild_rosaceanose25.jpg', 'severe_acnecystic9.jpg', 'severe_sti33.jpg', 'normal_augimg101.jpg', 'severe_rosacea78.jpg', 'normal_337.jpg', 'mild_acneclosedcomedo22.jpg', 'normal_timg262.jpg', 'severe_rim19.jpg', 'mild_milia1.jpg', 'severe_07RosaceaK02165.jpg', 'normal_augimg163.jpg', 'mild_acneopencomedo53.jpg', 'normal_214.jpg', 'severe_btimg0.jpg', 'normal_309.jpg', 'severe_sti47.jpg', 'severe_rosaceanose21.jpg', 'normal_augimg96.jpg', 'normal_augimg176.jpg', 'normal_212.jpg', 'mild_acneopencomedo22.jpg', 'normal_353.jpg', 'severe_decb42.jpg', 'normal_augimg33.jpg', 'severe_riimg32.jpg', 'mild_acnepustular14.jpg', 'mild_perioraldermatitis90.jpg', 'normal_augimg125.jpg', 'normal_416.jpg', 'mild_perioraldermatitis134.jpg', 'normal_augimg174.jpg', 'severe_rim12.jpg', 'mild_perioraldermatitis59.jpg', 'mild_acneopencomedo50.jpg', 'severe_hidradenitissuppurativa41.jpg', 'normal_312.jpg', 'severe_acneClosedComedo.jpg', 'severe_hidradenitissuppurativa5.jpg', 'severe_btimg12.jpg', 'normal_325.jpg', 'normal_233.jpg', 'normal_452.jpg', 'mild_acneclosedcomedo12.jpg', 'normal_augimg133.jpg', 'mild_perioraldermatitis91.jpg', 'normal_timg235.jpg', 'severe_acnepustular15.jpg', 'normal_augimg130.jpg', 'normal_augimg173.jpg', 'normal_augimg50.jpg', 'mild_milia10.jpg', 'severe_rimg9.jpg', 'mild_milia17.jpg', 'severe_rimg30.jpg', 'mild_rosacea60.jpg', 'mild_perioraldermatitis118.jpg', 'normal_augimg149.jpg', 'severe_rosaceanose37.jpg', 'severe_imgss24.jpg', 'severe_riimg30.jpg', 'normal_411.jpg', 'mild_acneopencomedo43.jpg', 'normal_456.jpg', 'mild_acneinfantile2.jpg', 'normal_timg272.jpg', 'severe_acnecystic43.jpg', 'severe_hidradenitissuppurativa70.jpg', 'severe_hidradenitissuppurativa103.jpg', 'severe_riimg28.jpg', 'severe_acnecystic100.jpg', 'severe_btimg9.jpg', 'severe_07RosaceaOK0828063.jpg', 'mild_hidradenitissuppurativa20.jpg', 'normal_213.jpg', 'severe_acnepustular67.jpg', 'mild_perioraldermatitis121.jpg', 'severe_riimg27.jpg', 'mild_perioraldermatitis50.jpg', 'severe_rimg7.jpg', 'normal_42.jpg', 'severe_acneopencomedo49.jpg', 'severe_rosacea94.jpg', 'mild_hidradenitissuppurativa31.jpg', 'normal_timg223.jpg', 'normal_timg192.jpg', 'mild_rosaceanose1.jpg', 'mild_perioraldermatitis105.jpg', 'normal_363.jpg', 'mild_perioraldermatitis100.jpg', 'mild_acnepustular25.jpg', 'normal_386.jpg', 'mild_rosacea90.jpg', 'mild_acneopencomedo23.jpg', 'normal_timg231.jpg', 'severe_acnecystic56.jpg', 'severe_acnecystic61.jpg', 'mild_rosacea118.jpg', 'mild_hidradenitissuppurativa30.jpg', 'normal_augimg124.jpg', 'normal_augimg63.jpg', 'normal_augimg19.jpg', 'normal_timg196.jpg', 'severe_acnecystic31.jpg', 'mild_rosaceanose4.jpg', 'severe_sti7.jpg', 'mild_07sebDerem110105.jpg', 'normal_443.jpg', 'mild_acnecystic91.jpg', 'severe_btimg23.jpg', 'severe_hidradenitissuppurativa61.jpg', 'normal_timg206.jpg', 'normal_316.jpg', 'mild_acneexcoriated26.jpg', 'severe_hidradenitissuppurativa60.jpg', 'severe_rimg19.jpg', 'severe_rimg3.jpg', 'severe_acnecystic117.jpg', 'severe_acnecystic60.jpg', 'mild_acneinfantile3.jpg', 'severe_rosacea109.jpg', 'normal_375.jpg', 'mild_milia4.jpg', 'severe_acnecystic89.jpg', 'severe_rimg31.jpg', 'severe_fordycespots6.jpg', 'mild_perioraldermatitis133.jpg', 'normal_229.jpg', 'severe_perioraldermatitis115.jpg', 'normal_augimg55.jpg', 'normal_424.jpg', 'mild_acnepustular54.jpg', 'mild_acneexcoriated2.jpg', 'normal_augimg37.jpg', 'severe_43.jpg', 'mild_acneexcoriated25.jpg', 'normal_augimg188.jpg', 'normal_442.jpg', 'mild_acneclosedcomedo2.jpg', 'mild_rosacea12.jpg', 'mild_acneclosedcomedo36.jpg', 'normal_augimg141.jpg', 'severe_sti15.jpg', 'normal_188.jpg', 'severe_rim8.jpg', 'mild_acneclosedcomedo19.jpg', 'normal_73.jpg', 'normal_184.jpg', 'severe_acnecystic3.jpg', 'mild_rosaceanose24.jpg', 'severe_hidradenitissuppurativa64.jpg', 'normal_195.jpg', 'mild_acneopencomedo1.jpg', 'normal_augimg53.jpg', 'mild_rosaceanose47.jpg', 'normal_62.jpg', 'mild_perioraldermatitis40.jpg', 'severe_07RosaceaK02164.jpg', 'normal_300.jpg', 'severe_acnecystic34.jpg', 'severe_rimg1.jpg', 'mild_acneinfantile6.jpg', 'severe_acnecystic146.jpg', 'mild_rosacea46.jpg', 'mild_acnepustular48.jpg', 'normal_438.jpg', 'normal_augimg100.jpg', 'normal_65.jpg', 'severe_imgss47.jpg', 'severe_rimg20.jpg', 'normal_augimg17.jpg', 'normal_augimg25.jpg', 'mild_perioraldermatitis110.jpg', 'normal_80.jpg', 'severe_acnepustular44.jpg', 'normal_198.jpg', 'severe_acnecystic118.jpg', 'severe_imgss16.jpg', 'severe_acnecystic10.jpg', 'severe_rimg17.jpg', 'normal_augimg58.jpg', 'severe_imgss4.jpg', 'mild_acneopencomedo32.jpg', 'normal_476.jpg', 'severe_milia12.jpg', 'normal_augimg187.jpg', 'mild_rosaceanose46.jpg', 'normal_16.jpg', 'mild_acnepustular37.jpg', 'normal_timg211.jpg', 'mild_acneinfantile4.jpg', 'normal_augimg158.jpg', 'normal_augimg138.jpg', 'mild_acneclosedcomedo7.jpg', 'normal_augimg12.jpg', 'severe_23VesselsNose.jpg', 'mild_perioraldermatitis49.jpg', 'normal_augimg161.jpg', 'severe_rosaceanose50.jpg', 'normal_augimg185.jpg', 'mild_acneclosedcomedo003.jpg', 'normal_323.jpg', 'normal_augimg132.jpg', 'mild_07PerioralSteroid1.jpg', 'mild_perioraldermatitis9.jpg', 'normal_352.jpg', 'mild_milia8.jpg', 'normal_timg253.jpg', 'mild_acneopencomedo33.jpg', 'mild_perioraldermatitis88.jpg', 'mild_acnemechanica1.jpg', 'mild_hidradenitissuppurativa83.jpg', 'mild_acnescar7.jpg', 'severe_imgss27.jpg', 'severe_rimg21.jpg', 'normal_439.jpg', 'mild_hidradenitissuppurativa24.jpg', 'severe_rim16.jpg', 'normal_7.jpg', 'mild_acnecystic19.jpg', 'normal_augimg171.jpg', 'normal_204.jpg', 'mild_rosaceasteroid2.jpg', 'normal_192.jpg', 'mild_perioraldermatitis53.jpg', 'severe_rimg12.jpg', 'normal_timg219.jpg', 'mild_rosaceanose2.jpg', 'mild_perioraldermatitis32.jpg', 'mild_acneopencomedo70.jpg', 'mild_acnepustular26.jpg', 'severe_imgss3.jpg', 'severe_hidradenitissuppurativa73.jpg', 'normal_augimg157.jpg', 'normal_401.jpg', 'normal_412.jpg', 'normal_451.jpg', 'normal_44.jpg', 'mild_acneopencomedo9.jpg', 'normal_timg260.jpg', 'severe_acnepustular69.jpg', 'mild_acneexcoriated24.jpg', 'mild_hidradenitissuppurativa27.jpg', 'mild_acnepustular27.jpg', 'mild_milia19.jpg', 'mild_rosacea19.jpg', 'normal_augimg139.jpg', 'normal_77.jpg', 'severe_hidradenitissuppurativa81.jpg', 'normal_augimg69.jpg', 'severe_hidradenitissuppurativa106.jpg', 'mild_rosaceanose6.jpg', 'mild_acneopencomedo31.jpg', 'normal_436.jpg', 'severe_rosacea87.jpg', 'mild_rosacea52.jpg', 'severe_btimg31.jpg', 'severe_acneface79ProtectWyJQcm90ZWN0Il0_FocusFillWzI5NCwyMjIsIngiLDFd.jpg', 'normal_augimg183.jpg', 'mild_acneexcoriated12.jpg', 'normal_398.jpg', 'normal_timg241.jpg', 'mild_acneclosedcomedo25.jpg', 'normal_timg250.jpg', 'severe_rim5.jpg', 'normal_328.jpg', 'mild_07SteroidPerioral.jpg', 'normal_394.jpg', 'normal_2.jpg', 'mild_acneclosedcomedo15.jpg', 'mild_acneopencomedo17.jpg', 'mild_acneclosedcomedo002.jpg', 'mild_acneopencomedo36.jpg', 'severe_acneface77ProtectWyJQcm90ZWN0Il0_FocusFillWzI5NCwyMjIsIngiLDFd.jpg', 'mild_rosacea16.jpg', 'mild_acnepustular3.jpg', 'mild_perioraldermatitis125.jpg', 'normal_330.jpg', 'severe_rosacea71.jpg', 'mild_rosacea22.jpg', 'mild_acnepustular51.jpg', 'normal_augimg136.jpg', 'mild_acneclosedcomedo8.jpg', 'normal_48.jpg', 'severe_acnecystic16.jpg', 'mild_acnepustular29.jpg', 'severe_decb48.jpg', 'severe_decb43.jpg', 'severe_rosacea57.jpg', 'severe_acnecystic27.jpg', 'mild_hidradenitissuppurativa26.jpg', 'severe_07Rhinophyma1.jpg', 'mild_acneopencomedo72.jpg', 'normal_225.jpg', 'severe_imgss0.jpg', 'normal_augimg22.jpg', 'severe_sti26.jpg', 'severe_acneface65ProtectWyJQcm90ZWN0Il0_FocusFillWzI5NCwyMjIsInkiLDVd.jpg', 'severe_rosacea74.jpg', 'mild_acneexcoriated4.jpg', 'mild_acneopencomedo58.jpg', 'mild_08PerioralDerm1.jpg', 'normal_augimg105.jpg', 'normal_augimg112.jpg', 'normal_356.jpg', 'mild_acnepustular4.jpg', 'severe_rosaceanose23.jpg', 'mild_perioraldermatitis45.jpg', 'normal_augimg180.jpg', 'severe_acnecystic42.jpg', 'mild_minocyclinepigmentation1.jpg', 'mild_milia16.jpg', 'severe_riimg26.jpg', 'mild_acneopencomedo68.jpg', 'severe_rosaceanose42.jpg', 'normal_211.jpg', 'normal_timg215.jpg', 'severe_acnecystic93.jpg', 'normal_334.jpg', 'severe_sti25.jpg', 'normal_379.jpg', 'normal_461.jpg', 'mild_acneopencomedo3.jpg', 'severe_acnecystic6.jpg', 'mild_acnepustular72.jpg', 'severe_acnecystic52.jpg', 'severe_sti40.jpg', 'normal_201.jpg', 'normal_augimg164.jpg', 'normal_augimg107.jpg', 'severe_sti5.jpg', 'normal_319.jpg', 'mild_perioraldermatitis129.jpg', 'normal_360.jpg', 'mild_perioraldermatitis123.jpg', 'normal_augimg45.jpg', 'severe_sti19.jpg', 'severe_acnecystic30.jpg', 'mild_hidradenitissuppurativa25.jpg', 'mild_perioraldermatitis51.jpg', 'severe_sti34.jpg', 'mild_perioraldermatitis41.jpg', 'normal_405.jpg', 'normal_augimg119.jpg', 'mild_perioraldermatitis124.jpg', 'severe_rimg11.jpg', 'mild_acneopencomedo20.jpg', 'severe_07RosaceaK02161.jpg', 'severe_sti24.jpg', 'normal_222.jpg', 'normal_50.jpg', 'normal_augimg156.jpg', 'severe_imgss44.jpg', 'mild_perioraldermatitis89.jpg', 'severe_imgss11.jpg', 'severe_rosacea49.jpg', 'mild_acneopencomedo62.jpg', 'severe_acnecystic40.jpg', 'normal_450.jpg', 'severe_sti45.jpg', 'severe_imgss31.jpg', 'mild_hidradenitissuppurativa12.jpg', 'severe_sti11.jpg', 'severe_rimg0.jpg', 'mild_rosaceasteroid7.jpg', 'normal_52.jpg', 'mild_hidradenitissuppurativa35.jpg', 'normal_417.jpg', 'normal_augimg61.jpg', 'mild_hidradenitissuppurativa102.jpg', 'severe_38.jpg', 'severe_riimg47.jpg', 'mild_hidradenitissuppurativa29.jpg', 'mild_acnescar9.jpg', 'mild_perioraldermatitis109.jpg', 'severe_sti16.jpg', 'mild_perioraldermatitis24.jpg', 'mild_07RosaceaFulFAce.jpg', 'severe_btimg21.jpg', 'severe_decb40.jpg', 'severe_btimg27.jpg', 'severe_sti12.jpg', 'normal_76.jpg', 'severe_sti4.jpg', 'mild_acnepustular65.jpg', 'severe_rimg16.jpg', 'severe_07RosaceaOK082806.jpg', 'severe_btimg5.jpg', 'severe_rim18.jpg', 'severe_rosacea86.jpg', 'mild_acneexcoriated8.jpg', 'severe_rimg27.jpg', 'normal_404.jpg', 'severe_sti38.jpg', 'severe_sti36.jpg', 'mild_acneexcoriated3.jpg', 'severe_rim17.jpg', 'normal_timg271.jpg', 'mild_acnepustular6.jpg', 'mild_acnepustular5.jpg', 'normal_453.jpg', 'mild_perioraldermatitis10.jpg', 'normal_344.jpg', 'mild_acnecystic84.jpg', 'severe_acneexcoriated20.jpg', 'severe_acnecystic113.jpg', 'mild_rosacea32.jpg', 'severe_acneopencomedo47.jpg', 'severe_rim15.jpg', 'mild_acneopencomedo2.jpg', 'normal_415.jpg', 'severe_rosaceanose31.jpg', 'normal_332.jpg', 'normal_timg216.jpg', 'mild_fordycespots1.jpg', 'mild_perioraldermatitis119.jpg', 'severe_rimg8.jpg', 'mild_rosacea35.jpg', 'severe_decb35.jpg', 'severe_sti35.jpg', 'normal_3.jpg', 'mild_rosaceanose55.jpg', 'mild_perioraldermatitis58.jpg', 'normal_timg202.jpg', 'severe_acnecystic17.jpg', 'normal_402.jpg', 'mild_perioraldermatitis99.jpg', 'normal_218.jpg', 'normal_335.jpg', 'normal_454.jpg', 'severe_sti30.jpg', 'severe_sti6.jpg', 'severe_acneinfantile12.jpg', 'mild_rosaceanose16.jpg', 'mild_perioraldermatitis16.jpg', 'mild_acneopencomedo13.jpg', 'severe_rim20.jpg', 'mild_perioraldermatitis19.jpg', 'mild_hidradenitissuppurativa84.jpg', 'severe_07RosaceaK02166.jpg', 'normal_1.jpg', 'mild_acneinfantile15.jpg', 'mild_rosacea89.jpg', 'normal_augimg7.jpg', 'normal_augimg120.jpg', 'mild_perioraldermatitis18.jpg', 'normal_387.jpg', 'severe_acnecystic1.jpg', 'normal_74.jpg', 'severe_sti13.jpg', 'normal_augimg186.jpg', 'mild_perioraldermatitis23.jpg', 'severe_sti10.jpg', 'mild_perioraldermatitis56.jpg', 'severe_acnecystic114.jpg', 'mild_perioraldermatitis130.jpg', 'severe_hidradenitissuppurativa8.jpg', 'severe_acnepustular12.jpg', 'severe_milia13.jpg', 'severe_acnecystic14.jpg', 'normal_197.jpg', 'normal_augimg142.jpg', 'normal_augimg93.jpg', 'normal_223.jpg', 'normal_timg245.jpg', 'normal_augimg103.jpg', 'mild_perioraldermatitis92.jpg', 'normal_462.jpg', 'mild_rosacea82.jpg', 'normal_timg257.jpg', 'mild_rosacea29.jpg', 'severe_rosacea107.jpg', 'severe_imgss17.jpg', 'normal_227.jpg', 'mild_rosacea51.jpg', 'severe_rosaceanose38.jpg', 'mild_perioraldermatitis104.jpg', 'severe_40.jpg', 'severe_sti37.jpg', 'normal_timg278.jpg', 'mild_acnecystic112.jpg', 'mild_perioraldermatitis82.jpg', 'mild_acneopencomedo37.jpg', 'mild_acneclosedcomedo6.jpg', 'normal_217.jpg', 'severe_acnepustular46.jpg', 'severe_rosacea79.jpg', 'severe_rosacea40.jpg', 'normal_303.jpg', 'severe_rimg36.jpg', 'mild_rosacea116.jpg', 'normal_augimg131.jpg', 'normal_20.jpg', 'mild_acnescar8.jpg', 'normal_441.jpg', 'mild_hidradenitissuppurativa21.jpg', 'mild_acneclosedcomedo9.jpg', 'normal_355.jpg', 'normal_augimg68.jpg', 'severe_sti32.jpg', 'severe_hidradenitissuppurativa39.jpg', 'normal_augimg64.jpg', 'severe_acnecystic105.jpg', 'mild_hidradenitissuppurativa28.jpg', 'mild_perioraldermatitis93.jpg', 'severe_imgss25.jpg', 'mild_acnepustular36.jpg', 'mild_hidradenitissuppurativa17.jpg', 'normal_augimg162.jpg', 'severe_acnecystic115.jpg', 'normal_36.jpg', 'severe_imgss13.jpg', 'normal_timg225.jpg', 'severe_rosaceanose10.jpg', 'mild_perioraldermatitis15.jpg', 'normal_timg203.jpg', 'severe_perioraldermatitis106.jpg', 'normal_timg240.jpg', 'severe_acnepustular21.jpg', 'mild_rosaceanose22.jpg', 'mild_ComedonesEars.jpg', 'severe_rosacea98.jpg', 'mild_acneopencomedo40.jpg', 'severe_perioraldermatitis140.jpg', 'mild_acnepustular50.jpg', 'normal_221.jpg', 'severe_acnepustular63.jpg', 'normal_406.jpg', 'normal_339.jpg', 'normal_348.jpg', 'severe_imgss28.jpg', 'mild_acnepustular57.jpg', 'normal_timg230.jpg', 'severe_rosacea99.jpg', 'mild_rosaceanose54.jpg', 'severe_rosacea75.jpg', 'mild_hidradenitissuppurativa85.jpg', 'mild_rosaceanose8.jpg', 'mild_acneopencomedo63.jpg', 'severe_acnecystic97.jpg', 'severe_acnecystic18.jpg', 'mild_acneopencomedo57.jpg', 'mild_acneopencomedo44.jpg', 'severe_rimg26.jpg', 'normal_augimg128.jpg', 'mild_acneexcoriated27.jpg', 'mild_perioraldermatitis34.jpg', 'mild_acneclosedcomedo20.jpg', 'severe_rosaceanose49.jpg', 'normal_timg254.jpg', 'severe_rimg18.jpg', 'mild_rosacea15.jpg', 'mild_perioraldermatitis141.jpg', 'normal_373.jpg', 'severe_riimg45.jpg', 'normal_383.jpg', 'mild_rosacea33.jpg', 'normal_augimg57.jpg', 'severe_sti14.jpg', 'severe_07PerlecheAccutane.jpg', 'severe_hidradenitissuppurativa92.jpg', 'mild_fordycespots3.jpg', 'normal_351.jpg', 'normal_augimg51.jpg', 'mild_rosacea63.jpg', 'mild_hidradenitissuppurativa36.jpg', 'mild_acnecystic29.jpg', 'mild_rosaceanose44.jpg', 'severe_acnecystic96.jpg', 'normal_timg267.jpg', 'normal_timg265.jpg', 'mild_rosacea68.jpg', 'mild_rosacea5.jpg', 'mild_perioraldermatitis84.jpg', 'normal_37.jpg', 'mild_rosacea4.jpg', 'mild_perioraldermatitis28.jpg', 'severe_07RosaceaK02162.jpg', 'severe_acnecystic24.jpg', 'mild_acnecystic94.jpg', 'mild_rosacea48.jpg', 'normal_augimg143.jpg', 'normal_augimg18.jpg', 'normal_45.jpg', 'mild_acneopencomedo73.jpg', 'normal_419.jpg', 'normal_timg246.jpg', 'severe_fordycespots5.jpg', 'severe_btimg18.jpg', 'mild_perioraldermatitis21.jpg', 'normal_augimg147.jpg', 'normal_6.jpg', 'severe_riimg38.jpg', 'severe_btimg25.jpg', 'severe_sti3.jpg', 'severe_sti18.jpg', 'severe_rosaceanose41.jpg', 'normal_63.jpg', 'normal_timg233.jpg', 'mild_acnepustular10.jpg', 'mild_acneexcoriated16.jpg', 'severe_imgss26.jpg', 'severe_acneface236ProtectWyJQcm90ZWN0Il0_FocusFillWzI5NCwyMjIsIngiLDFd.jpg', 'mild_perioraldermatitis12.jpg', 'severe_hidradenitissuppurativa45.jpg', 'mild_perioraldermatitis97.jpg', 'mild_hidradenitissuppurativa67.jpg', 'severe_btimg22.jpg', 'severe_rimg28.jpg', 'severe_acnecystic148.jpg', 'mild_acneclosedcomedo1.jpg', 'normal_augimg95.jpg', 'normal_57.jpg', 'severe_acnecystic59.jpg', 'normal_augimg94.jpg', 'normal_augimg48.jpg', 'normal_397.jpg', 'normal_321.jpg', 'normal_timg276.jpg', 'mild_acneopencomedo52.jpg', 'normal_augimg44.jpg', 'mild_perioraldermatitis3.jpg', 'mild_perioraldermatitis37.jpg', 'normal_465.jpg', 'mild_rosacea31.jpg', 'mild_hidradenitissuppurativa32.jpg', 'severe_acnecystic86.jpg', 'mild_acnepustular53.jpg', 'severe_imgss22.jpg', 'normal_463.jpg', 'mild_acneopencomedo25.jpg', 'mild_acneclosedcomedo13.jpg', 'mild_acneexcoriated1.jpg', 'severe_btimg19.jpg', 'normal_augimg65.jpg', 'mild_rosacea105.jpg', 'normal_350.jpg', 'mild_acnecystic124.jpg', 'severe_acnecystic137.jpg', 'severe_riimg35.jpg', 'normal_226.jpg', 'severe_acnecystic4.jpg', 'severe_imgss6.jpg', 'mild_acneopencomedo18.jpg', 'severe_btimg11.jpg', 'severe_41.jpg', 'severe_acnecystic39.jpg', 'mild_perioraldermatitis4.jpg', 'severe_riimg29.jpg', 'normal_39.jpg', 'mild_rosaceanose30.jpg', 'mild_acneexcoriated28.jpg', 'mild_rosaceanose26.jpg', 'severe_rosacea55.jpg', 'mild_07rosaceaTreated091806OK.jpg', 'severe_hidradenitissuppurativa38.jpg', 'mild_rosaceanose29.jpg', 'mild_acneopencomedo56.jpg', 'severe_acnepustular62.jpg', 'normal_augimg129.jpg', 'normal_augimg181.jpg', 'mild_rosacea25.jpg', 'normal_324.jpg', 'normal_216.jpg', 'mild_acnepustular23.jpg', 'mild_hidradenitissuppurativa37.jpg', 'mild_rosaceanose28.jpg', 'normal_327.jpg', 'mild_rosacea2.jpg', 'mild_acneopencomedo45.jpg', 'normal_timg266.jpg', 'mild_acneopencomedo69.jpg', 'normal_308.jpg', 'normal_timg226.jpg', 'mild_perioraldermatitis54.jpg', 'severe_rosacea97.jpg', 'severe_acnecystic38.jpg', 'mild_acnecystic57.jpg']\n"
     ]
    }
   ],
   "source": [
    "import os\n",
    "import pandas as pd\n",
    "import xlsxwriter\n",
    "import xlrd\n",
    "import openpyxl\n",
    "# Get the list of all files and directories\n",
    "path = \"/home/jhanvipatel/Desktop/python/Skin/data_n/\"\n",
    "dir_list = os.listdir(path)\n",
    "\n",
    "print(\"Files and directories in '\", path, \"' :\")\n",
    "\n",
    "# prints all files\n",
    "print(dir_list)\n",
    "\n",
    "L = dir_list\n",
    "clas = ''\n",
    "datatyp = ''\n",
    "# dataframe Name and Age columns\n",
    "df = pd.DataFrame({'Data':datatyp,'Class':clas,'Images':L})\n",
    "\n",
    "# # Create a Pandas Excel writer using XlsxWriter as the engine.\n",
    "writer = pd.ExcelWriter('dataNew.xlsx', engine='xlsxwriter')\n",
    "\n",
    "# Convert the dataframe to an XlsxWriter Excel object.\n",
    "df.to_excel(writer, sheet_name='Sheet1', index=False)\n",
    "\n",
    "# Close the Pandas Excel writer and output the Excel file.\n",
    "writer.save()"
   ]
  },
  {
   "cell_type": "code",
   "execution_count": null,
   "metadata": {},
   "outputs": [],
   "source": []
  }
 ],
 "metadata": {
  "kernelspec": {
   "display_name": "Python 3",
   "language": "python",
   "name": "python3"
  },
  "language_info": {
   "codemirror_mode": {
    "name": "ipython",
    "version": 3
   },
   "file_extension": ".py",
   "mimetype": "text/x-python",
   "name": "python",
   "nbconvert_exporter": "python",
   "pygments_lexer": "ipython3",
   "version": "3.8.10"
  }
 },
 "nbformat": 4,
 "nbformat_minor": 4
}
